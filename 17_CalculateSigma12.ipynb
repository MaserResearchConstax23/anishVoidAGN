{
 "cells": [
  {
   "cell_type": "code",
   "execution_count": 18,
   "id": "62872d2c",
   "metadata": {},
   "outputs": [],
   "source": [
    "# Start small and save your time."
   ]
  },
  {
   "cell_type": "code",
   "execution_count": 30,
   "id": "3c23d4fd",
   "metadata": {
    "scrolled": true
   },
   "outputs": [],
   "source": [
    "# import necessary packages\n",
    "\n",
    "import pandas as pd # for working with tables\n",
    "pd.options.mode.chained_assignment = None  # default = 'warn'\n",
    "\n",
    "import os # for finding file directory with os.getcwd()\n",
    "\n",
    "# for calculations\n",
    "import numpy as np \n",
    "import scipy as sp\n",
    "import math\n",
    "\n",
    "import matplotlib.pyplot as plt # for plotting\n",
    "\n",
    "# for plotting histogram with percentages\n",
    "from matplotlib.ticker import PercentFormatter\n",
    "import matplotlib.ticker as mtick\n",
    "\n",
    "from PIL import Image # for converting plots to black-and-white\n",
    "\n",
    "from ipynb.fs.full.MyFunctions_00 import *"
   ]
  },
  {
   "cell_type": "markdown",
   "id": "ab62d71d",
   "metadata": {},
   "source": [
    "## Compile Table of Sigma 12 Tables"
   ]
  },
  {
   "cell_type": "code",
   "execution_count": 20,
   "id": "698bb802",
   "metadata": {},
   "outputs": [
    {
     "name": "stdout",
     "output_type": "stream",
     "text": [
      "read VOIDS_outliers_removed_new_04-11-23\n"
     ]
    }
   ],
   "source": [
    "# read in saved mean tables\n",
    "ultimate_mean_voids = read_data('ultimate_mean_VOIDS_' + 'new_' + timestamp())"
   ]
  },
  {
   "cell_type": "code",
   "execution_count": 21,
   "id": "6db34e58",
   "metadata": {
    "scrolled": false
   },
   "outputs": [
    {
     "name": "stdout",
     "output_type": "stream",
     "text": [
      "read WALLS_outliers_removed_new_04-11-23\n"
     ]
    }
   ],
   "source": [
    "ultimate_mean_walls = read_data('ultimate_mean_WALLS_' + 'new_' + timestamp())"
   ]
  },
  {
   "cell_type": "code",
   "execution_count": 22,
   "id": "adee84c4",
   "metadata": {},
   "outputs": [
    {
     "data": {
      "text/html": [
       "<div>\n",
       "<style scoped>\n",
       "    .dataframe tbody tr th:only-of-type {\n",
       "        vertical-align: middle;\n",
       "    }\n",
       "\n",
       "    .dataframe tbody tr th {\n",
       "        vertical-align: top;\n",
       "    }\n",
       "\n",
       "    .dataframe thead th {\n",
       "        text-align: right;\n",
       "    }\n",
       "</style>\n",
       "<table border=\"1\" class=\"dataframe\">\n",
       "  <thead>\n",
       "    <tr style=\"text-align: right;\">\n",
       "      <th></th>\n",
       "      <th>object_tag</th>\n",
       "      <th>mjd_binned</th>\n",
       "      <th>mean_W1</th>\n",
       "      <th>mean_W2</th>\n",
       "      <th>mean_color</th>\n",
       "      <th>std_W1</th>\n",
       "      <th>std_W2</th>\n",
       "      <th>std_color</th>\n",
       "    </tr>\n",
       "  </thead>\n",
       "  <tbody>\n",
       "    <tr>\n",
       "      <th>0</th>\n",
       "      <td>75.0</td>\n",
       "      <td>5.0</td>\n",
       "      <td>14.133667</td>\n",
       "      <td>13.951697</td>\n",
       "      <td>0.181970</td>\n",
       "      <td>0.816597</td>\n",
       "      <td>0.790833</td>\n",
       "      <td>0.240681</td>\n",
       "    </tr>\n",
       "    <tr>\n",
       "      <th>1</th>\n",
       "      <td>75.0</td>\n",
       "      <td>195.0</td>\n",
       "      <td>14.087479</td>\n",
       "      <td>13.916177</td>\n",
       "      <td>0.171302</td>\n",
       "      <td>0.818100</td>\n",
       "      <td>0.795176</td>\n",
       "      <td>0.204798</td>\n",
       "    </tr>\n",
       "    <tr>\n",
       "      <th>2</th>\n",
       "      <td>75.0</td>\n",
       "      <td>1465.0</td>\n",
       "      <td>13.644400</td>\n",
       "      <td>13.466700</td>\n",
       "      <td>0.177700</td>\n",
       "      <td>0.052568</td>\n",
       "      <td>0.058520</td>\n",
       "      <td>0.079880</td>\n",
       "    </tr>\n",
       "    <tr>\n",
       "      <th>3</th>\n",
       "      <td>75.0</td>\n",
       "      <td>1655.0</td>\n",
       "      <td>13.584250</td>\n",
       "      <td>13.437167</td>\n",
       "      <td>0.147083</td>\n",
       "      <td>0.061251</td>\n",
       "      <td>0.124310</td>\n",
       "      <td>0.132766</td>\n",
       "    </tr>\n",
       "    <tr>\n",
       "      <th>4</th>\n",
       "      <td>75.0</td>\n",
       "      <td>1825.0</td>\n",
       "      <td>13.672364</td>\n",
       "      <td>13.503818</td>\n",
       "      <td>0.168545</td>\n",
       "      <td>0.078336</td>\n",
       "      <td>0.138713</td>\n",
       "      <td>0.136840</td>\n",
       "    </tr>\n",
       "    <tr>\n",
       "      <th>5</th>\n",
       "      <td>75.0</td>\n",
       "      <td>2015.0</td>\n",
       "      <td>13.643667</td>\n",
       "      <td>13.463000</td>\n",
       "      <td>0.180667</td>\n",
       "      <td>0.066020</td>\n",
       "      <td>0.116497</td>\n",
       "      <td>0.156636</td>\n",
       "    </tr>\n",
       "    <tr>\n",
       "      <th>6</th>\n",
       "      <td>75.0</td>\n",
       "      <td>2185.0</td>\n",
       "      <td>13.612091</td>\n",
       "      <td>13.504000</td>\n",
       "      <td>0.108091</td>\n",
       "      <td>0.062973</td>\n",
       "      <td>0.116374</td>\n",
       "      <td>0.134299</td>\n",
       "    </tr>\n",
       "    <tr>\n",
       "      <th>7</th>\n",
       "      <td>75.0</td>\n",
       "      <td>2385.0</td>\n",
       "      <td>13.652571</td>\n",
       "      <td>13.500810</td>\n",
       "      <td>0.151762</td>\n",
       "      <td>0.079929</td>\n",
       "      <td>0.172975</td>\n",
       "      <td>0.187048</td>\n",
       "    </tr>\n",
       "    <tr>\n",
       "      <th>8</th>\n",
       "      <td>75.0</td>\n",
       "      <td>2545.0</td>\n",
       "      <td>13.643200</td>\n",
       "      <td>13.483900</td>\n",
       "      <td>0.159300</td>\n",
       "      <td>0.074385</td>\n",
       "      <td>0.096192</td>\n",
       "      <td>0.091241</td>\n",
       "    </tr>\n",
       "    <tr>\n",
       "      <th>9</th>\n",
       "      <td>75.0</td>\n",
       "      <td>2745.0</td>\n",
       "      <td>13.579000</td>\n",
       "      <td>13.502200</td>\n",
       "      <td>0.076800</td>\n",
       "      <td>0.044547</td>\n",
       "      <td>0.074794</td>\n",
       "      <td>0.078272</td>\n",
       "    </tr>\n",
       "  </tbody>\n",
       "</table>\n",
       "</div>"
      ],
      "text/plain": [
       "   object_tag  mjd_binned    mean_W1    mean_W2  mean_color    std_W1  \\\n",
       "0        75.0         5.0  14.133667  13.951697    0.181970  0.816597   \n",
       "1        75.0       195.0  14.087479  13.916177    0.171302  0.818100   \n",
       "2        75.0      1465.0  13.644400  13.466700    0.177700  0.052568   \n",
       "3        75.0      1655.0  13.584250  13.437167    0.147083  0.061251   \n",
       "4        75.0      1825.0  13.672364  13.503818    0.168545  0.078336   \n",
       "5        75.0      2015.0  13.643667  13.463000    0.180667  0.066020   \n",
       "6        75.0      2185.0  13.612091  13.504000    0.108091  0.062973   \n",
       "7        75.0      2385.0  13.652571  13.500810    0.151762  0.079929   \n",
       "8        75.0      2545.0  13.643200  13.483900    0.159300  0.074385   \n",
       "9        75.0      2745.0  13.579000  13.502200    0.076800  0.044547   \n",
       "\n",
       "     std_W2  std_color  \n",
       "0  0.790833   0.240681  \n",
       "1  0.795176   0.204798  \n",
       "2  0.058520   0.079880  \n",
       "3  0.124310   0.132766  \n",
       "4  0.138713   0.136840  \n",
       "5  0.116497   0.156636  \n",
       "6  0.116374   0.134299  \n",
       "7  0.172975   0.187048  \n",
       "8  0.096192   0.091241  \n",
       "9  0.074794   0.078272  "
      ]
     },
     "execution_count": 22,
     "metadata": {},
     "output_type": "execute_result"
    }
   ],
   "source": [
    "ultimate_mean_voids.head(10)"
   ]
  },
  {
   "cell_type": "code",
   "execution_count": 23,
   "id": "991da47e",
   "metadata": {},
   "outputs": [],
   "source": [
    "# W1 = 3.4 micrometer\n",
    "# W2 = 4.6 micrometer\n",
    "\n",
    "Sigma_table = pd.DataFrame(columns = ['object_tag', 'num_obj', \n",
    "                                      'v([3.4])', 'v([4.6])', \n",
    "                                      'vm([3.4])', 'vm([4.6])', \n",
    "                                      'σ([3.4])', 'σ([4.6])',\n",
    "                                      'Sigma_12'])\n",
    "\n",
    "t = 75\n",
    "\n",
    "Sigma_t = ultimate_mean_voids[(ultimate_mean_voids['object_tag'] == t)]"
   ]
  },
  {
   "cell_type": "code",
   "execution_count": 24,
   "id": "791d4a6d",
   "metadata": {},
   "outputs": [
    {
     "data": {
      "text/plain": [
       "numpy.ndarray"
      ]
     },
     "execution_count": 24,
     "metadata": {},
     "output_type": "execute_result"
    }
   ],
   "source": [
    "W1 = Sigma_t['mean_W1'].to_numpy()\n",
    "W2 = Sigma_t['mean_W2'].to_numpy()\n",
    "\n",
    "type(W1)"
   ]
  },
  {
   "cell_type": "code",
   "execution_count": 25,
   "id": "68e649ba",
   "metadata": {},
   "outputs": [
    {
     "name": "stdout",
     "output_type": "stream",
     "text": [
      "0.1380013925403419\n"
     ]
    }
   ],
   "source": [
    "# we use Number of epochs - 1 for the standard deviation devisor\n",
    "W1_std = np.std(W1, ddof = 1)\n",
    "W2_std = np.std(W2, ddof = 1)\n",
    "\n",
    "print(W1_std)"
   ]
  },
  {
   "cell_type": "code",
   "execution_count": 36,
   "id": "db31898b",
   "metadata": {},
   "outputs": [
    {
     "name": "stdout",
     "output_type": "stream",
     "text": [
      "0.033661904761903116\n"
     ]
    }
   ],
   "source": [
    "# we use Number of epochs - 1 for the standard deviation devisor\n",
    "W1_mad = sp.stats.median_abs_deviation(W1, nan_policy = 'omit')\n",
    "W2_mad = sp.stats.median_abs_deviation(W2, nan_policy = 'omit')\n",
    "\n",
    "# scale = \"normal\"\n",
    "\n",
    "print(W2_mad)"
   ]
  },
  {
   "cell_type": "code",
   "execution_count": null,
   "id": "0f03bb95",
   "metadata": {},
   "outputs": [],
   "source": []
  },
  {
   "cell_type": "code",
   "execution_count": null,
   "id": "db155c51",
   "metadata": {},
   "outputs": [],
   "source": [
    "Sigma = np.corrcoef(x = W2, y = W1, rowvar = False)[0][1]\n",
    "# returns a 2 x 2 matrix with the correlation between W1 and W2. the diagonal will be 1 since it is the correlation\n",
    "# between one variable and itself. therefore, we select a box not in the diagonal for our Sigma measurement\n",
    "\n",
    "n_obj = Sigma_t.shape[0] # measure number of rows in the dataframe\n",
    "# this tells us the number of objects the coefficient calculation is based on\n",
    "\n",
    "Sigma_table.loc[len(Sigma_table.index)] = [t, n_obj,\n",
    "                                           W1_std, W2_std,\n",
    "                                           Sigma]"
   ]
  },
  {
   "cell_type": "code",
   "execution_count": 7,
   "id": "5d27bdbd",
   "metadata": {
    "scrolled": false
   },
   "outputs": [
    {
     "name": "stdout",
     "output_type": "stream",
     "text": [
      "5000 voids\n",
      "10000 voids\n",
      "15000 voids\n",
      "20000 voids\n",
      "25000 voids\n",
      "30000 voids\n",
      "35000 voids\n",
      "40000 voids\n",
      "45000 voids\n",
      "50000 voids\n",
      "55000 voids\n",
      "60000 voids\n",
      "65000 voids\n",
      "70000 voids\n"
     ]
    }
   ],
   "source": [
    "# check and save Pr table\n",
    "voids_Sigma = Sigma_table(ultimate_mean_voids)\n",
    "# print(voids_Pr)"
   ]
  },
  {
   "cell_type": "code",
   "execution_count": 8,
   "id": "6ce7e900",
   "metadata": {},
   "outputs": [],
   "source": [
    "# voids_Pr.to_csv('Files/VOIDS_Pr_' + 'new_' + timestamp() + '.csv', index = False)"
   ]
  },
  {
   "cell_type": "code",
   "execution_count": 9,
   "id": "63b56665",
   "metadata": {
    "scrolled": false
   },
   "outputs": [
    {
     "name": "stdout",
     "output_type": "stream",
     "text": [
      "5000 voids\n",
      "10000 voids\n",
      "15000 voids\n",
      "20000 voids\n",
      "25000 voids\n",
      "30000 voids\n",
      "35000 voids\n",
      "40000 voids\n",
      "45000 voids\n",
      "50000 voids\n",
      "55000 voids\n",
      "60000 voids\n",
      "65000 voids\n",
      "70000 voids\n",
      "75000 voids\n",
      "80000 voids\n",
      "85000 voids\n",
      "90000 voids\n",
      "95000 voids\n",
      "100000 voids\n",
      "105000 voids\n",
      "110000 voids\n",
      "115000 voids\n",
      "120000 voids\n",
      "125000 voids\n",
      "130000 voids\n",
      "135000 voids\n",
      "140000 voids\n",
      "145000 voids\n",
      "150000 voids\n",
      "155000 voids\n",
      "160000 voids\n",
      "165000 voids\n",
      "170000 voids\n",
      "175000 voids\n",
      "180000 voids\n",
      "185000 voids\n",
      "190000 voids\n",
      "195000 voids\n",
      "200000 voids\n",
      "205000 voids\n",
      "210000 voids\n",
      "215000 voids\n",
      "220000 voids\n"
     ]
    }
   ],
   "source": [
    "walls_Sigma = Sigma_table(ultimate_mean_walls)"
   ]
  },
  {
   "cell_type": "code",
   "execution_count": 10,
   "id": "3c4abb29",
   "metadata": {},
   "outputs": [],
   "source": [
    "# walls_Pr.to_csv('Files/WALLS_Pr_' + 'new_' + timestamp() + '.csv', index = False)"
   ]
  }
 ],
 "metadata": {
  "kernelspec": {
   "display_name": "Python 3 (ipykernel)",
   "language": "python",
   "name": "python3"
  },
  "language_info": {
   "codemirror_mode": {
    "name": "ipython",
    "version": 3
   },
   "file_extension": ".py",
   "mimetype": "text/x-python",
   "name": "python",
   "nbconvert_exporter": "python",
   "pygments_lexer": "ipython3",
   "version": "3.9.13"
  }
 },
 "nbformat": 4,
 "nbformat_minor": 5
}
