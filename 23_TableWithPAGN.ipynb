{
 "cells": [
  {
   "cell_type": "code",
   "execution_count": 1,
   "id": "62872d2c",
   "metadata": {},
   "outputs": [],
   "source": [
    "# Start small and save your time."
   ]
  },
  {
   "cell_type": "code",
   "execution_count": 2,
   "id": "3c23d4fd",
   "metadata": {
    "scrolled": true
   },
   "outputs": [],
   "source": [
    "# import necessary packages\n",
    "\n",
    "import pandas as pd # for working with tables\n",
    "pd.options.mode.chained_assignment = None  # default = 'warn'\n",
    "\n",
    "import os # for finding file directory with os.getcwd()\n",
    "\n",
    "# for calculations\n",
    "import numpy as np \n",
    "import math\n",
    "\n",
    "import matplotlib.pyplot as plt # for plotting\n",
    "\n",
    "# for plotting histogram with percentages\n",
    "from matplotlib.ticker import PercentFormatter\n",
    "import matplotlib.ticker as mtick\n",
    "from matplotlib.ticker import FormatStrFormatter\n",
    "\n",
    "from PIL import Image # for converting plots to black-and-white\n",
    "from IPython.display import HTML\n",
    "\n",
    "from ipynb.fs.full.MyFunctions_00 import *"
   ]
  },
  {
   "cell_type": "code",
   "execution_count": 3,
   "id": "ffc7c068",
   "metadata": {},
   "outputs": [
    {
     "name": "stdout",
     "output_type": "stream",
     "text": [
      "read VOIDS_pAGN_05-31-23\n",
      "read WALLS_pAGN_05-31-23\n"
     ]
    }
   ],
   "source": [
    "voids_pAGN = read_data_db('VOIDS_pAGN_' + '05-31-23')\n",
    "walls_pAGN = read_data_db('WALLS_pAGN_' + '05-31-23')"
   ]
  },
  {
   "cell_type": "code",
   "execution_count": 4,
   "id": "96b974f4",
   "metadata": {
    "scrolled": false
   },
   "outputs": [
    {
     "name": "stdout",
     "output_type": "stream",
     "text": [
      "read voids_parent_colors_new_04-11-23\n",
      "read walls_parent_colors_new_04-11-23\n",
      "read voids_bright_colors_new_04-11-23\n",
      "read walls_bright_colors_new_04-11-23\n",
      "read voids_main_colors_new_04-11-23\n",
      "read walls_main_colors_new_04-11-23\n",
      "read voids_dwarf_colors_new_04-11-23\n",
      "read walls_dwarf_colors_new_04-11-23\n"
     ]
    }
   ],
   "source": [
    "voids_parent = read_data_db('voids_parent_colors_' + 'new_' + '04-11-23') # timestamp())\n",
    "walls_parent = read_data_db('walls_parent_colors_' + 'new_' + '04-11-23') # timestamp())\n",
    "\n",
    "voids_bright = read_data_db('voids_bright_colors_' + 'new_' + '04-11-23') # timestamp())\n",
    "walls_bright = read_data_db('walls_bright_colors_' + 'new_' + '04-11-23') # timestamp())\n",
    "\n",
    "voids_main = read_data_db('voids_main_colors_' + 'new_' + '04-11-23') # timestamp())\n",
    "walls_main = read_data_db('walls_main_colors_' + 'new_' + '04-11-23') # timestamp())\n",
    "\n",
    "voids_dwarf = read_data_db('voids_dwarf_colors_' + 'new_' + '04-11-23') # timestamp())\n",
    "walls_dwarf = read_data_db('walls_dwarf_colors_' + 'new_' + '04-11-23') # timestamp())"
   ]
  },
  {
   "cell_type": "code",
   "execution_count": 5,
   "id": "b53e7d35",
   "metadata": {},
   "outputs": [],
   "source": [
    "voids_parent_merged = voids_parent.merge(voids_pAGN, how = 'left', on = 'object_tag')\n",
    "voids_bright_merged = voids_bright.merge(voids_pAGN, how = 'left', on = 'object_tag')\n",
    "voids_main_merged = voids_main.merge(voids_pAGN, how = 'left', on = 'object_tag')\n",
    "voids_dwarf_merged = voids_dwarf.merge(voids_pAGN, how = 'left', on = 'object_tag')"
   ]
  },
  {
   "cell_type": "code",
   "execution_count": 6,
   "id": "db4df808",
   "metadata": {},
   "outputs": [],
   "source": [
    "walls_parent_merged = walls_parent.merge(walls_pAGN, how = 'left', on = 'object_tag')\n",
    "walls_bright_merged = walls_bright.merge(walls_pAGN, how = 'left', on = 'object_tag')\n",
    "walls_main_merged = walls_main.merge(walls_pAGN, how = 'left', on = 'object_tag')\n",
    "walls_dwarf_merged = walls_dwarf.merge(walls_pAGN, how = 'left', on = 'object_tag')"
   ]
  },
  {
   "cell_type": "code",
   "execution_count": 7,
   "id": "87850a23",
   "metadata": {
    "scrolled": false
   },
   "outputs": [
    {
     "data": {
      "text/html": [
       "<table border=\"1\" class=\"dataframe\">\n",
       "  <thead>\n",
       "    <tr style=\"text-align: right;\">\n",
       "      <th>Galaxy group</th>\n",
       "      <th>Count (% of parent)</th>\n",
       "      <th>W1 - W2 &lt; 0.5</th>\n",
       "      <th>W1 - W2 &gt;= 0.8</th>\n",
       "      <th>%AGN &gt;= 10%</th>\n",
       "    </tr>\n",
       "  </thead>\n",
       "  <tbody>\n",
       "    <tr>\n",
       "      <td>(Parent) full voids</td>\n",
       "      <td>71261</td>\n",
       "      <td>98.59 ± 0.52</td>\n",
       "      <td>321 (0.45 ± 0.03)</td>\n",
       "      <td>8002 (11.23 ± 0.13)</td>\n",
       "    </tr>\n",
       "    <tr>\n",
       "      <td>(Parent) full walls</td>\n",
       "      <td>219255</td>\n",
       "      <td>98.8 ± 0.3</td>\n",
       "      <td>798 (0.36 ± 0.01)</td>\n",
       "      <td>18081 (8.25 ± 0.06)</td>\n",
       "    </tr>\n",
       "    <tr>\n",
       "      <td>Variable full voids (r &gt; 0.75)</td>\n",
       "      <td>7689 (10.79 ± 0.13)</td>\n",
       "      <td>94.23 ± 1.54</td>\n",
       "      <td>149 (1.94 ± 0.16)</td>\n",
       "      <td>865 (11.25 ± 0.4)</td>\n",
       "    </tr>\n",
       "    <tr>\n",
       "      <td>Variable full walls (r &gt; 0.75)</td>\n",
       "      <td>24475 (10.79 ± 0.13)</td>\n",
       "      <td>94.53 ± 0.87</td>\n",
       "      <td>480 (1.96 ± 0.09)</td>\n",
       "      <td>2300 (9.4 ± 0.2)</td>\n",
       "    </tr>\n",
       "    <tr>\n",
       "      <td>Variable full voids (r &gt; 0.85)</td>\n",
       "      <td>5670 (7.96 ± 0.11)</td>\n",
       "      <td>94.04 ± 1.79</td>\n",
       "      <td>119 (2.1 ± 0.19)</td>\n",
       "      <td>581 (10.25 ± 0.45)</td>\n",
       "    </tr>\n",
       "    <tr>\n",
       "      <td>Variable full walls (r &gt; 0.85)</td>\n",
       "      <td>17705 (7.96 ± 0.11)</td>\n",
       "      <td>93.89 ± 1.01</td>\n",
       "      <td>390 (2.2 ± 0.11)</td>\n",
       "      <td>1564 (8.83 ± 0.23)</td>\n",
       "    </tr>\n",
       "  </tbody>\n",
       "</table>"
      ],
      "text/plain": [
       "<IPython.core.display.HTML object>"
      ]
     },
     "metadata": {},
     "output_type": "display_data"
    }
   ],
   "source": [
    "table_1_pAGN(voids_parent_merged, walls_parent_merged, 'full', 10)"
   ]
  },
  {
   "cell_type": "code",
   "execution_count": 8,
   "id": "921d4772",
   "metadata": {},
   "outputs": [
    {
     "data": {
      "text/html": [
       "<table border=\"1\" class=\"dataframe\">\n",
       "  <thead>\n",
       "    <tr style=\"text-align: right;\">\n",
       "      <th>Galaxy group</th>\n",
       "      <th>Count (% of parent)</th>\n",
       "      <th>W1 - W2 &lt; 0.5</th>\n",
       "      <th>W1 - W2 &gt;= 0.8</th>\n",
       "      <th>%AGN &gt;= 10%</th>\n",
       "    </tr>\n",
       "  </thead>\n",
       "  <tbody>\n",
       "    <tr>\n",
       "      <td>(Parent) bright voids</td>\n",
       "      <td>30898</td>\n",
       "      <td>98.22 ± 0.79</td>\n",
       "      <td>147 (0.48 ± 0.04)</td>\n",
       "      <td>894 (2.89 ± 0.1)</td>\n",
       "    </tr>\n",
       "    <tr>\n",
       "      <td>(Parent) bright walls</td>\n",
       "      <td>119212</td>\n",
       "      <td>98.59 ± 0.41</td>\n",
       "      <td>466 (0.39 ± 0.02)</td>\n",
       "      <td>2248 (1.89 ± 0.04)</td>\n",
       "    </tr>\n",
       "    <tr>\n",
       "      <td>Variable bright voids (r &gt; 0.75)</td>\n",
       "      <td>4076 (13.19 ± 0.22)</td>\n",
       "      <td>92.32 ± 2.09</td>\n",
       "      <td>99 (2.43 ± 0.25)</td>\n",
       "      <td>180 (4.42 ± 0.34)</td>\n",
       "    </tr>\n",
       "    <tr>\n",
       "      <td>Variable bright walls (r &gt; 0.75)</td>\n",
       "      <td>15861 (13.19 ± 0.22)</td>\n",
       "      <td>93.63 ± 1.07</td>\n",
       "      <td>337 (2.12 ± 0.12)</td>\n",
       "      <td>590 (3.72 ± 0.16)</td>\n",
       "    </tr>\n",
       "    <tr>\n",
       "      <td>Variable bright voids (r &gt; 0.85)</td>\n",
       "      <td>3160 (10.23 ± 0.19)</td>\n",
       "      <td>92.31 ± 2.37</td>\n",
       "      <td>84 (2.66 ± 0.29)</td>\n",
       "      <td>137 (4.34 ± 0.38)</td>\n",
       "    </tr>\n",
       "    <tr>\n",
       "      <td>Variable bright walls (r &gt; 0.85)</td>\n",
       "      <td>11897 (10.23 ± 0.19)</td>\n",
       "      <td>92.92 ± 1.23</td>\n",
       "      <td>284 (2.39 ± 0.14)</td>\n",
       "      <td>449 (3.77 ± 0.18)</td>\n",
       "    </tr>\n",
       "  </tbody>\n",
       "</table>"
      ],
      "text/plain": [
       "<IPython.core.display.HTML object>"
      ]
     },
     "metadata": {},
     "output_type": "display_data"
    }
   ],
   "source": [
    "table_1_pAGN(voids_bright_merged, walls_bright_merged, 'bright', 10)"
   ]
  },
  {
   "cell_type": "code",
   "execution_count": 14,
   "id": "64fb1e9d",
   "metadata": {},
   "outputs": [
    {
     "data": {
      "text/html": [
       "<table border=\"1\" class=\"dataframe\">\n",
       "  <thead>\n",
       "    <tr style=\"text-align: right;\">\n",
       "      <th>Galaxy group</th>\n",
       "      <th>Count (% of parent)</th>\n",
       "      <th>W1 - W2 &lt; 0.5</th>\n",
       "      <th>W1 - W2 &gt;= 0.8</th>\n",
       "      <th>%AGN &gt;= 10%</th>\n",
       "    </tr>\n",
       "  </thead>\n",
       "  <tbody>\n",
       "    <tr>\n",
       "      <td>(Parent) main voids</td>\n",
       "      <td>39646</td>\n",
       "      <td>98.92 ± 0.7</td>\n",
       "      <td>153 (0.39 ± 0.03)</td>\n",
       "      <td>6792 (17.13 ± 0.22)</td>\n",
       "    </tr>\n",
       "    <tr>\n",
       "      <td>(Parent) main walls</td>\n",
       "      <td>99504</td>\n",
       "      <td>99.09 ± 0.45</td>\n",
       "      <td>316 (0.32 ± 0.02)</td>\n",
       "      <td>15572 (15.65 ± 0.13)</td>\n",
       "    </tr>\n",
       "    <tr>\n",
       "      <td>Variable main voids (r &gt; 0.75)</td>\n",
       "      <td>3563 (8.99 ± 0.16)</td>\n",
       "      <td>96.41 ± 2.31</td>\n",
       "      <td>48 (1.35 ± 0.2)</td>\n",
       "      <td>662 (18.58 ± 0.79)</td>\n",
       "    </tr>\n",
       "    <tr>\n",
       "      <td>Variable main walls (r &gt; 0.75)</td>\n",
       "      <td>8585 (8.99 ± 0.16)</td>\n",
       "      <td>96.26 ± 1.48</td>\n",
       "      <td>138 (1.61 ± 0.14)</td>\n",
       "      <td>1692 (19.71 ± 0.52)</td>\n",
       "    </tr>\n",
       "    <tr>\n",
       "      <td>Variable main voids (r &gt; 0.85)</td>\n",
       "      <td>2472 (6.24 ± 0.13)</td>\n",
       "      <td>96.2 ± 2.76</td>\n",
       "      <td>35 (1.42 ± 0.24)</td>\n",
       "      <td>427 (17.27 ± 0.91)</td>\n",
       "    </tr>\n",
       "    <tr>\n",
       "      <td>Variable main walls (r &gt; 0.85)</td>\n",
       "      <td>5791 (6.24 ± 0.13)</td>\n",
       "      <td>95.96 ± 1.8</td>\n",
       "      <td>102 (1.76 ± 0.18)</td>\n",
       "      <td>1104 (19.06 ± 0.63)</td>\n",
       "    </tr>\n",
       "  </tbody>\n",
       "</table>"
      ],
      "text/plain": [
       "<IPython.core.display.HTML object>"
      ]
     },
     "metadata": {},
     "output_type": "display_data"
    }
   ],
   "source": [
    "table_1_pAGN(voids_main_merged, walls_main_merged, 'main', 10)"
   ]
  },
  {
   "cell_type": "code",
   "execution_count": 12,
   "id": "9d8591e9",
   "metadata": {},
   "outputs": [
    {
     "data": {
      "text/html": [
       "<table border=\"1\" class=\"dataframe\">\n",
       "  <thead>\n",
       "    <tr style=\"text-align: right;\">\n",
       "      <th>Galaxy group</th>\n",
       "      <th>Count (% of parent)</th>\n",
       "      <th>W1 - W2 &lt; 0.5</th>\n",
       "      <th>W1 - W2 &gt;= 0.8</th>\n",
       "      <th>%AGN &gt;= 10%</th>\n",
       "    </tr>\n",
       "  </thead>\n",
       "  <tbody>\n",
       "    <tr>\n",
       "      <td>(Parent) dwarf voids</td>\n",
       "      <td>717</td>\n",
       "      <td>95.82 ± 5.12</td>\n",
       "      <td>21 (2.93 ± 0.65)</td>\n",
       "      <td>316 (44.07 ± 2.98)</td>\n",
       "    </tr>\n",
       "    <tr>\n",
       "      <td>(Parent) dwarf walls</td>\n",
       "      <td>539</td>\n",
       "      <td>94.25 ± 5.83</td>\n",
       "      <td>16 (2.97 ± 0.75)</td>\n",
       "      <td>261 (48.42 ± 3.65)</td>\n",
       "    </tr>\n",
       "    <tr>\n",
       "      <td>Variable dwarf voids (r &gt; 0.75)</td>\n",
       "      <td>50 (6.97 ± 1.02)</td>\n",
       "      <td>94.0 ± 19.1</td>\n",
       "      <td>2 (4.0 ± 2.88)</td>\n",
       "      <td>23 (46.0 ± 11.59)</td>\n",
       "    </tr>\n",
       "    <tr>\n",
       "      <td>Variable dwarf walls (r &gt; 0.75)</td>\n",
       "      <td>29 (6.97 ± 1.02)</td>\n",
       "      <td>72.41 ± 20.75</td>\n",
       "      <td>5 (17.24 ± 8.35)</td>\n",
       "      <td>18 (62.07 ± 18.62)</td>\n",
       "    </tr>\n",
       "    <tr>\n",
       "      <td>Variable dwarf voids (r &gt; 0.85)</td>\n",
       "      <td>38 (5.3 ± 0.88)</td>\n",
       "      <td>97.37 ± 22.49</td>\n",
       "      <td>0 (0.0)</td>\n",
       "      <td>17 (44.74 ± 13.05)</td>\n",
       "    </tr>\n",
       "    <tr>\n",
       "      <td>Variable dwarf walls (r &gt; 0.85)</td>\n",
       "      <td>17 (5.3 ± 0.88)</td>\n",
       "      <td>70.59 ± 26.61</td>\n",
       "      <td>4 (23.53 ± 13.08)</td>\n",
       "      <td>11 (64.71 ± 25.04)</td>\n",
       "    </tr>\n",
       "  </tbody>\n",
       "</table>"
      ],
      "text/plain": [
       "<IPython.core.display.HTML object>"
      ]
     },
     "metadata": {},
     "output_type": "display_data"
    }
   ],
   "source": [
    "table_1_pAGN(voids_dwarf_merged, walls_dwarf_merged, 'dwarf', 10)"
   ]
  }
 ],
 "metadata": {
  "kernelspec": {
   "display_name": "Python 3 (ipykernel)",
   "language": "python",
   "name": "python3"
  },
  "language_info": {
   "codemirror_mode": {
    "name": "ipython",
    "version": 3
   },
   "file_extension": ".py",
   "mimetype": "text/x-python",
   "name": "python",
   "nbconvert_exporter": "python",
   "pygments_lexer": "ipython3",
   "version": "3.9.13"
  }
 },
 "nbformat": 4,
 "nbformat_minor": 5
}
