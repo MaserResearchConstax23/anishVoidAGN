{
 "cells": [
  {
   "cell_type": "code",
   "execution_count": 1,
   "id": "62872d2c",
   "metadata": {},
   "outputs": [],
   "source": [
    "# Start small and save your time."
   ]
  },
  {
   "cell_type": "code",
   "execution_count": 2,
   "id": "3c23d4fd",
   "metadata": {
    "scrolled": true
   },
   "outputs": [],
   "source": [
    "# import necessary packages\n",
    "\n",
    "import pandas as pd # for working with tables\n",
    "pd.options.mode.chained_assignment = None  # default = 'warn'\n",
    "\n",
    "import os # for finding file directory with os.getcwd()\n",
    "\n",
    "# for calculations\n",
    "import numpy as np \n",
    "import math\n",
    "\n",
    "import matplotlib.pyplot as plt # for plotting\n",
    "\n",
    "# for plotting histogram with percentages\n",
    "from matplotlib.ticker import PercentFormatter\n",
    "import matplotlib.ticker as mtick\n",
    "from matplotlib.ticker import FormatStrFormatter\n",
    "\n",
    "from PIL import Image # for converting plots to black-and-white\n",
    "from IPython.display import HTML\n",
    "\n",
    "from ipynb.fs.full.MyFunctions_00 import *"
   ]
  },
  {
   "cell_type": "code",
   "execution_count": 3,
   "id": "9171aed1",
   "metadata": {
    "scrolled": true
   },
   "outputs": [
    {
     "name": "stdout",
     "output_type": "stream",
     "text": [
      "read ultimate_mean_VOIDS_new_04-10-23\n",
      "read ultimate_mean_WALLS_new_04-11-23\n"
     ]
    }
   ],
   "source": [
    "ultimate_mean_voids = read_data('ultimate_mean_VOIDS_new_' + '04-10-23')# timestamp())\n",
    "ultimate_mean_walls = read_data('ultimate_mean_WALLS_new_' + timestamp())"
   ]
  },
  {
   "cell_type": "code",
   "execution_count": 4,
   "id": "65f8a0aa",
   "metadata": {
    "scrolled": true
   },
   "outputs": [
    {
     "data": {
      "text/html": [
       "<div>\n",
       "<style scoped>\n",
       "    .dataframe tbody tr th:only-of-type {\n",
       "        vertical-align: middle;\n",
       "    }\n",
       "\n",
       "    .dataframe tbody tr th {\n",
       "        vertical-align: top;\n",
       "    }\n",
       "\n",
       "    .dataframe thead th {\n",
       "        text-align: right;\n",
       "    }\n",
       "</style>\n",
       "<table border=\"1\" class=\"dataframe\">\n",
       "  <thead>\n",
       "    <tr style=\"text-align: right;\">\n",
       "      <th></th>\n",
       "      <th>object_tag</th>\n",
       "      <th>mjd_binned</th>\n",
       "      <th>mean_W1</th>\n",
       "      <th>mean_W2</th>\n",
       "      <th>mean_color</th>\n",
       "      <th>std_W1</th>\n",
       "      <th>std_W2</th>\n",
       "      <th>std_color</th>\n",
       "    </tr>\n",
       "  </thead>\n",
       "  <tbody>\n",
       "    <tr>\n",
       "      <th>0</th>\n",
       "      <td>75.0</td>\n",
       "      <td>5.0</td>\n",
       "      <td>14.133667</td>\n",
       "      <td>13.951697</td>\n",
       "      <td>0.181970</td>\n",
       "      <td>0.816597</td>\n",
       "      <td>0.790833</td>\n",
       "      <td>0.240681</td>\n",
       "    </tr>\n",
       "    <tr>\n",
       "      <th>1</th>\n",
       "      <td>75.0</td>\n",
       "      <td>195.0</td>\n",
       "      <td>14.087479</td>\n",
       "      <td>13.916177</td>\n",
       "      <td>0.171302</td>\n",
       "      <td>0.818100</td>\n",
       "      <td>0.795176</td>\n",
       "      <td>0.204798</td>\n",
       "    </tr>\n",
       "    <tr>\n",
       "      <th>2</th>\n",
       "      <td>75.0</td>\n",
       "      <td>1465.0</td>\n",
       "      <td>13.644400</td>\n",
       "      <td>13.466700</td>\n",
       "      <td>0.177700</td>\n",
       "      <td>0.052568</td>\n",
       "      <td>0.058520</td>\n",
       "      <td>0.079880</td>\n",
       "    </tr>\n",
       "    <tr>\n",
       "      <th>3</th>\n",
       "      <td>75.0</td>\n",
       "      <td>1655.0</td>\n",
       "      <td>13.584250</td>\n",
       "      <td>13.437167</td>\n",
       "      <td>0.147083</td>\n",
       "      <td>0.061251</td>\n",
       "      <td>0.124310</td>\n",
       "      <td>0.132766</td>\n",
       "    </tr>\n",
       "    <tr>\n",
       "      <th>4</th>\n",
       "      <td>75.0</td>\n",
       "      <td>1825.0</td>\n",
       "      <td>13.672364</td>\n",
       "      <td>13.503818</td>\n",
       "      <td>0.168545</td>\n",
       "      <td>0.078336</td>\n",
       "      <td>0.138713</td>\n",
       "      <td>0.136840</td>\n",
       "    </tr>\n",
       "  </tbody>\n",
       "</table>\n",
       "</div>"
      ],
      "text/plain": [
       "   object_tag  mjd_binned    mean_W1    mean_W2  mean_color    std_W1  \\\n",
       "0        75.0         5.0  14.133667  13.951697    0.181970  0.816597   \n",
       "1        75.0       195.0  14.087479  13.916177    0.171302  0.818100   \n",
       "2        75.0      1465.0  13.644400  13.466700    0.177700  0.052568   \n",
       "3        75.0      1655.0  13.584250  13.437167    0.147083  0.061251   \n",
       "4        75.0      1825.0  13.672364  13.503818    0.168545  0.078336   \n",
       "\n",
       "     std_W2  std_color  \n",
       "0  0.790833   0.240681  \n",
       "1  0.795176   0.204798  \n",
       "2  0.058520   0.079880  \n",
       "3  0.124310   0.132766  \n",
       "4  0.138713   0.136840  "
      ]
     },
     "execution_count": 4,
     "metadata": {},
     "output_type": "execute_result"
    }
   ],
   "source": [
    "ultimate_mean_voids.head()"
   ]
  },
  {
   "cell_type": "code",
   "execution_count": 5,
   "id": "75b7c74a",
   "metadata": {},
   "outputs": [
    {
     "name": "stdout",
     "output_type": "stream",
     "text": [
      "79004\n"
     ]
    }
   ],
   "source": [
    "num_voids_NEO = np.unique(ultimate_mean_voids['object_tag'])\n",
    "print(len(num_voids_NEO))"
   ]
  },
  {
   "cell_type": "code",
   "execution_count": 6,
   "id": "e5369b1f",
   "metadata": {
    "scrolled": false
   },
   "outputs": [
    {
     "name": "stdout",
     "output_type": "stream",
     "text": [
      "1524281\n",
      "5000 galaxies\n",
      "10000 galaxies\n",
      "15000 galaxies\n",
      "20000 galaxies\n",
      "25000 galaxies\n",
      "30000 galaxies\n",
      "35000 galaxies\n",
      "40000 galaxies\n",
      "45000 galaxies\n",
      "50000 galaxies\n",
      "55000 galaxies\n",
      "60000 galaxies\n",
      "65000 galaxies\n",
      "70000 galaxies\n",
      "75000 galaxies\n",
      "1509657\n"
     ]
    }
   ],
   "source": [
    "print(len(ultimate_mean_voids))\n",
    "ultimate_outlier_voids = outlier_table_switched(ultimate_mean_voids, 4.0)\n",
    "print(len(ultimate_outlier_voids))"
   ]
  },
  {
   "cell_type": "code",
   "execution_count": 7,
   "id": "e8f2d83f",
   "metadata": {},
   "outputs": [],
   "source": [
    "ultimate_outlier_voids.to_csv('Files/VOIDS_outliers_removed_new_' + timestamp() + '.csv', index = False)"
   ]
  },
  {
   "cell_type": "code",
   "execution_count": 8,
   "id": "451da1c5",
   "metadata": {
    "scrolled": false
   },
   "outputs": [
    {
     "name": "stdout",
     "output_type": "stream",
     "text": [
      "4728995\n",
      "5000 galaxies\n",
      "10000 galaxies\n",
      "15000 galaxies\n",
      "20000 galaxies\n",
      "25000 galaxies\n",
      "30000 galaxies\n",
      "35000 galaxies\n",
      "40000 galaxies\n",
      "45000 galaxies\n",
      "50000 galaxies\n",
      "55000 galaxies\n",
      "60000 galaxies\n",
      "65000 galaxies\n",
      "70000 galaxies\n",
      "75000 galaxies\n",
      "80000 galaxies\n",
      "85000 galaxies\n",
      "90000 galaxies\n",
      "95000 galaxies\n",
      "100000 galaxies\n",
      "105000 galaxies\n",
      "110000 galaxies\n",
      "115000 galaxies\n",
      "120000 galaxies\n",
      "125000 galaxies\n",
      "130000 galaxies\n",
      "135000 galaxies\n",
      "140000 galaxies\n",
      "145000 galaxies\n",
      "150000 galaxies\n",
      "155000 galaxies\n",
      "160000 galaxies\n",
      "165000 galaxies\n",
      "170000 galaxies\n",
      "175000 galaxies\n",
      "180000 galaxies\n",
      "185000 galaxies\n",
      "190000 galaxies\n",
      "195000 galaxies\n",
      "200000 galaxies\n",
      "205000 galaxies\n",
      "210000 galaxies\n",
      "215000 galaxies\n",
      "220000 galaxies\n",
      "225000 galaxies\n",
      "230000 galaxies\n",
      "4692399\n"
     ]
    }
   ],
   "source": [
    "print(len(ultimate_mean_walls))\n",
    "ultimate_outlier_walls = outlier_table_switched(ultimate_mean_walls, 4.0)\n",
    "print(len(ultimate_outlier_walls))"
   ]
  },
  {
   "cell_type": "code",
   "execution_count": 9,
   "id": "5af7c0b0",
   "metadata": {},
   "outputs": [],
   "source": [
    "ultimate_outlier_walls.to_csv('Files/WALLS_outliers_removed_' + 'new_' + timestamp() + '.csv', index = False)"
   ]
  }
 ],
 "metadata": {
  "kernelspec": {
   "display_name": "Python 3 (ipykernel)",
   "language": "python",
   "name": "python3"
  },
  "language_info": {
   "codemirror_mode": {
    "name": "ipython",
    "version": 3
   },
   "file_extension": ".py",
   "mimetype": "text/x-python",
   "name": "python",
   "nbconvert_exporter": "python",
   "pygments_lexer": "ipython3",
   "version": "3.9.13"
  }
 },
 "nbformat": 4,
 "nbformat_minor": 5
}
