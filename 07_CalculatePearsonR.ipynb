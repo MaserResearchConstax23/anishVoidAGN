{
 "cells": [
  {
   "cell_type": "code",
   "execution_count": 1,
   "id": "62872d2c",
   "metadata": {},
   "outputs": [],
   "source": [
    "# Start small and save your time."
   ]
  },
  {
   "cell_type": "code",
   "execution_count": 2,
   "id": "3c23d4fd",
   "metadata": {
    "scrolled": true
   },
   "outputs": [],
   "source": [
    "# import necessary packages\n",
    "\n",
    "import pandas as pd # for working with tables\n",
    "pd.options.mode.chained_assignment = None  # default = 'warn'\n",
    "\n",
    "import os # for finding file directory with os.getcwd()\n",
    "\n",
    "# for calculations\n",
    "import numpy as np \n",
    "import math\n",
    "\n",
    "import matplotlib.pyplot as plt # for plotting\n",
    "\n",
    "# for plotting histogram with percentages\n",
    "from matplotlib.ticker import PercentFormatter\n",
    "import matplotlib.ticker as mtick\n",
    "\n",
    "from PIL import Image # for converting plots to black-and-white\n",
    "\n",
    "from ipynb.fs.full.MyFunctions_00 import *"
   ]
  },
  {
   "cell_type": "markdown",
   "id": "ab62d71d",
   "metadata": {},
   "source": [
    "## Compile Table of Pearson's R Table"
   ]
  },
  {
   "cell_type": "code",
   "execution_count": 3,
   "id": "698bb802",
   "metadata": {},
   "outputs": [
    {
     "name": "stdout",
     "output_type": "stream",
     "text": [
      "read VOIDS_outliers_removed_new_04-11-23\n"
     ]
    }
   ],
   "source": [
    "# read in saved mean tables\n",
    "ultimate_mean_voids = read_data('VOIDS_outliers_removed_' + 'new_' + timestamp())"
   ]
  },
  {
   "cell_type": "code",
   "execution_count": 4,
   "id": "6db34e58",
   "metadata": {
    "scrolled": true
   },
   "outputs": [
    {
     "name": "stdout",
     "output_type": "stream",
     "text": [
      "read WALLS_outliers_removed_new_04-11-23\n"
     ]
    }
   ],
   "source": [
    "ultimate_mean_walls = read_data('WALLS_outliers_removed_' + 'new_' + timestamp())"
   ]
  },
  {
   "cell_type": "code",
   "execution_count": 5,
   "id": "af5cc23e",
   "metadata": {},
   "outputs": [
    {
     "name": "stdout",
     "output_type": "stream",
     "text": [
      "73960\n",
      "223258\n"
     ]
    }
   ],
   "source": [
    "number_voids = np.unique(ultimate_mean_voids['object_tag'])\n",
    "print(len(number_voids))\n",
    "\n",
    "number_walls = np.unique(ultimate_mean_walls['object_tag'])\n",
    "print(len(number_walls))"
   ]
  },
  {
   "cell_type": "code",
   "execution_count": 6,
   "id": "65d781d6",
   "metadata": {},
   "outputs": [],
   "source": [
    "# # Test Block 12-12-2022\n",
    "\n",
    "# obj_list = [39328,\n",
    "#             39340,\n",
    "#             39344,\n",
    "#             39349,\n",
    "#             39354,\n",
    "#             39367,\n",
    "#             39373,\n",
    "#             39377]\n",
    "            \n",
    "# ultimate_mean_voids = ultimate_mean_voids_full[(ultimate_mean_voids_full['object_tag'].isin(obj_list))]\n",
    "\n",
    "# print(ultimate_mean_voids)"
   ]
  },
  {
   "cell_type": "code",
   "execution_count": 7,
   "id": "5d27bdbd",
   "metadata": {
    "scrolled": false
   },
   "outputs": [
    {
     "name": "stdout",
     "output_type": "stream",
     "text": [
      "5000 voids\n",
      "10000 voids\n",
      "15000 voids\n",
      "20000 voids\n",
      "25000 voids\n",
      "30000 voids\n",
      "35000 voids\n",
      "40000 voids\n",
      "45000 voids\n",
      "50000 voids\n",
      "55000 voids\n",
      "60000 voids\n",
      "65000 voids\n",
      "70000 voids\n"
     ]
    }
   ],
   "source": [
    "# check and save Pr table\n",
    "voids_Pr = Pearson_table(ultimate_mean_voids)\n",
    "# print(voids_Pr)"
   ]
  },
  {
   "cell_type": "code",
   "execution_count": 8,
   "id": "6ce7e900",
   "metadata": {},
   "outputs": [],
   "source": [
    "voids_Pr.to_csv('Files/VOIDS_Pr_' + 'new_' + timestamp() + '.csv', index = False)"
   ]
  },
  {
   "cell_type": "code",
   "execution_count": 9,
   "id": "63b56665",
   "metadata": {
    "scrolled": false
   },
   "outputs": [
    {
     "name": "stdout",
     "output_type": "stream",
     "text": [
      "5000 voids\n",
      "10000 voids\n",
      "15000 voids\n",
      "20000 voids\n",
      "25000 voids\n",
      "30000 voids\n",
      "35000 voids\n",
      "40000 voids\n",
      "45000 voids\n",
      "50000 voids\n",
      "55000 voids\n",
      "60000 voids\n",
      "65000 voids\n",
      "70000 voids\n",
      "75000 voids\n",
      "80000 voids\n",
      "85000 voids\n",
      "90000 voids\n",
      "95000 voids\n",
      "100000 voids\n",
      "105000 voids\n",
      "110000 voids\n",
      "115000 voids\n",
      "120000 voids\n",
      "125000 voids\n",
      "130000 voids\n",
      "135000 voids\n",
      "140000 voids\n",
      "145000 voids\n",
      "150000 voids\n",
      "155000 voids\n",
      "160000 voids\n",
      "165000 voids\n",
      "170000 voids\n",
      "175000 voids\n",
      "180000 voids\n",
      "185000 voids\n",
      "190000 voids\n",
      "195000 voids\n",
      "200000 voids\n",
      "205000 voids\n",
      "210000 voids\n",
      "215000 voids\n",
      "220000 voids\n"
     ]
    }
   ],
   "source": [
    "walls_Pr = Pearson_table(ultimate_mean_walls)"
   ]
  },
  {
   "cell_type": "code",
   "execution_count": 10,
   "id": "3c4abb29",
   "metadata": {},
   "outputs": [],
   "source": [
    "walls_Pr.to_csv('Files/WALLS_Pr_' + 'new_' + timestamp() + '.csv', index = False)"
   ]
  }
 ],
 "metadata": {
  "kernelspec": {
   "display_name": "Python 3 (ipykernel)",
   "language": "python",
   "name": "python3"
  },
  "language_info": {
   "codemirror_mode": {
    "name": "ipython",
    "version": 3
   },
   "file_extension": ".py",
   "mimetype": "text/x-python",
   "name": "python",
   "nbconvert_exporter": "python",
   "pygments_lexer": "ipython3",
   "version": "3.9.13"
  }
 },
 "nbformat": 4,
 "nbformat_minor": 5
}
