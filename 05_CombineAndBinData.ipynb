{
 "cells": [
  {
   "cell_type": "code",
   "execution_count": 1,
   "id": "62872d2c",
   "metadata": {},
   "outputs": [],
   "source": [
    "# Start small and save your time."
   ]
  },
  {
   "cell_type": "code",
   "execution_count": 2,
   "id": "3c23d4fd",
   "metadata": {
    "scrolled": false
   },
   "outputs": [],
   "source": [
    "# import necessary packages\n",
    "\n",
    "import pandas as pd # for working with tables\n",
    "pd.options.mode.chained_assignment = None  # default = 'warn'\n",
    "\n",
    "import os # for finding file directory with os.getcwd()\n",
    "\n",
    "# # for calculations\n",
    "import numpy as np \n",
    "import math\n",
    "\n",
    "import matplotlib.pyplot as plt # for plotting\n",
    "\n",
    "# # for plotting histogram with percentages\n",
    "from matplotlib.ticker import PercentFormatter\n",
    "import matplotlib.ticker as mtick\n",
    "\n",
    "from PIL import Image # for converting plots to black-and-white"
   ]
  },
  {
   "cell_type": "code",
   "execution_count": 3,
   "id": "b82eb2d5",
   "metadata": {},
   "outputs": [],
   "source": [
    "from ipynb.fs.full.MyFunctions_00 import *"
   ]
  },
  {
   "cell_type": "code",
   "execution_count": null,
   "id": "4460a236",
   "metadata": {},
   "outputs": [],
   "source": [
    "voids_6arc = read_data('IPAC_Results/New/Voids/new_voids_AWSource')\n",
    "voids_6arc = voids_6arc.rename(columns = {'nsaid_01' : 'object_tag', \n",
    "                                          'w1mpro' : 'w1mpro_AWS',\n",
    "                                          'w2mpro' : 'w2mpro_AWS'})\n",
    "\n",
    "print(len(voids_6arc))\n",
    "voids_filtered = filter_colors(voids_6arc)\n",
    "print(len(voids_filtered))\n",
    "\n",
    "voids_filtered_cols = voids_filtered[[\"object_tag\", \"w1mpro_AWS\", \"w2mpro_AWS\",]]\n",
    "voids_filtered_cols.head()\n"
   ]
  },
  {
   "cell_type": "code",
   "execution_count": null,
   "id": "32779bf5",
   "metadata": {},
   "outputs": [],
   "source": [
    "walls_6arc = read_data('IPAC_Results/New/Walls/new_walls_AWSource')\n",
    "walls_6arc = walls_6arc.rename(columns = {'nsaid_01' : 'object_tag', \n",
    "                                          'w1mpro' : 'w1mpro_AWS',\n",
    "                                          'w2mpro' : 'w2mpro_AWS'})\n",
    "\n",
    "print(len(walls_6arc))\n",
    "walls_filtered = filter_colors(walls_6arc)\n",
    "print(len(walls_filtered))\n",
    "\n",
    "walls_filtered_cols = walls_filtered[[\"object_tag\", \"w1mpro_AWS\", \"w2mpro_AWS\",]]\n",
    "walls_filtered_cols.head()\n"
   ]
  },
  {
   "cell_type": "markdown",
   "id": "0ee9ab8e",
   "metadata": {},
   "source": [
    "## Compile for VOIDS - Done as of ______"
   ]
  },
  {
   "cell_type": "code",
   "execution_count": null,
   "id": "45c06f65",
   "metadata": {
    "scrolled": false
   },
   "outputs": [],
   "source": [
    "# import data from NEOWISE and ALLWISE MEP (multi-epoch photometry)\n",
    "\n",
    "# since the NEOWISE data files are so large, import each piece of the data for each group and then bind together\n",
    "voids_NEO_1 = read_data('IPAC_Results/AWS/Voids/ONE_AWS_voids_NEOWISE')\n",
    "voids_NEO_12 = read_data('IPAC_Results/AWS/Voids/ONE2_AWS_voids_NEOWISE')\n",
    "voids_NEO_2 = read_data('IPAC_Results/AWS/Voids/TWO_AWS_voids_NEOWISE')\n",
    "voids_NEO_22 = read_data('IPAC_Results/AWS/Voids/TWO2_AWS_voids_NEOWISE')\n",
    "voids_NEO_3 = read_data('IPAC_Results/AWS/Voids/THREE_AWS_voids_NEOWISE')\n",
    "\n",
    "voids_NEO_full = pd.concat([voids_NEO_1, voids_NEO_12, \n",
    "                            voids_NEO_2, voids_NEO_22,\n",
    "                            voids_NEO_3], \n",
    "                           ignore_index = True, axis = 0)\n",
    "\n",
    "# voids_NEO_full = voids_NEO_full.head()\n",
    "\n",
    "voids_ME_1 = read_data('IPAC_Results/AWS/Voids/ONE_AWS_voids_MEP')\n",
    "voids_ME_2 = read_data('IPAC_Results/AWS/Voids/TWO_AWS_voids_MEP')\n",
    "voids_ME_3 = read_data('IPAC_Results/AWS/Voids/THREE_AWS_voids_MEP')\n",
    "\n",
    "voids_ME_full = pd.concat([voids_ME_1, voids_ME_2, voids_ME_3], ignore_index = True, axis = 0)"
   ]
  },
  {
   "cell_type": "code",
   "execution_count": null,
   "id": "a5a8f9e3",
   "metadata": {
    "scrolled": true
   },
   "outputs": [],
   "source": [
    "voids_NEO_1.head()"
   ]
  },
  {
   "cell_type": "code",
   "execution_count": null,
   "id": "e387210c",
   "metadata": {
    "scrolled": true
   },
   "outputs": [],
   "source": [
    "voids_ME_full.head()"
   ]
  },
  {
   "cell_type": "code",
   "execution_count": null,
   "id": "a4b129a4",
   "metadata": {},
   "outputs": [],
   "source": [
    "num_voids_NEO = np.unique(voids_NEO_full['nsaid_01'])\n",
    "print(len(num_voids_NEO))\n",
    "\n",
    "num_voids_ME = np.unique(voids_ME_full['nsaid_01'])\n",
    "print(len(num_voids_ME))\n",
    "\n",
    "num_voids_both = np.concatenate((num_voids_NEO, num_voids_ME), axis=None)\n",
    "print(len(num_voids_both))\n",
    "\n",
    "num_voids_unique = np.unique(num_voids_both)\n",
    "print(len(num_voids_unique))\n",
    "print('')\n",
    "print(len(num_voids_unique[~np.isnan(num_voids_unique)]))"
   ]
  },
  {
   "cell_type": "code",
   "execution_count": null,
   "id": "8c1a603b",
   "metadata": {
    "scrolled": true
   },
   "outputs": [],
   "source": [
    "# implement the above functions for the voids dataset\n",
    "voids_full = combine_new_colors(voids_NEO_full, voids_ME_full, voids_filtered_cols)\n",
    "tags_unique_voids = np.unique(voids_full['object_tag'])\n",
    "\n",
    "voids_full.head()"
   ]
  },
  {
   "cell_type": "code",
   "execution_count": null,
   "id": "aa22c00b",
   "metadata": {},
   "outputs": [],
   "source": [
    "len(tags_unique_voids)"
   ]
  },
  {
   "cell_type": "code",
   "execution_count": null,
   "id": "532b65fd",
   "metadata": {},
   "outputs": [],
   "source": [
    "new_voids = voids_full\n",
    "\n",
    "new_voids_list = read_data_db('new_voids_filtDL_04-10-23')\n",
    "\n",
    "new_voids_list = new_voids_list.rename(columns = {'NSAID' : 'nsaid_01'})\n",
    "\n",
    "new_voids_merged = new_voids.merge(new_voids_list, how = 'left', on = ['nsaid_01'])\n",
    "\n",
    "new_voids_filt = new_voids_merged.dropna(subset = ['RA'])\n",
    "\n",
    "voids_full = new_voids_filt\n",
    "\n",
    "print(len(np.unique(voids_full['object_tag'])))"
   ]
  },
  {
   "cell_type": "code",
   "execution_count": null,
   "id": "72932723",
   "metadata": {},
   "outputs": [],
   "source": [
    "# redo tag list after filtering\n",
    "tags_unique_voids = np.unique(voids_full['object_tag'])\n",
    "print(len(tags_unique_voids))\n",
    "\n",
    "# problem = nan value!\n",
    "print(tags_unique_voids.min())\n",
    "print(tags_unique_voids.max())"
   ]
  },
  {
   "cell_type": "code",
   "execution_count": null,
   "id": "9a926a45",
   "metadata": {},
   "outputs": [],
   "source": [
    "# remove nan value\n",
    "tags_unique_voids = tags_unique_voids[np.logical_not(np.isnan(tags_unique_voids))]\n",
    "print(len(tags_unique_voids))"
   ]
  },
  {
   "cell_type": "code",
   "execution_count": null,
   "id": "175c290f",
   "metadata": {},
   "outputs": [],
   "source": [
    "# make an empty mean table\n",
    "# using a for loop, add the rows from each unique object's mean table into the ultimate mean table\n",
    "# the ultimate_mean table will contain the information needed to plot the light curve for every void object\n",
    "ultimate_mean_voids = pd.DataFrame(columns = ['object_tag', 'mjd_binned',\n",
    "                                              'mean_W1', 'mean_W2', 'mean_color',\n",
    "                                              'std_W1', 'std_W2', 'std_color'])\n",
    "\n",
    "outliers_removed_voids = pd.DataFrame(columns = ['nsaid_01',\n",
    "                                                     'w1mpro',\n",
    "                                                     'w2mpro',\n",
    "                                                     'mjd',\n",
    "                                                     'object_tag',\n",
    "                                                     'origin',\n",
    "                                                     'w1mpro_AWS',\n",
    "                                                     'w2mpro_AWS',\n",
    "                                                     'W2_diff',\n",
    "                                                     'mjd_zero',\n",
    "                                                     'W1-W2',\n",
    "                                                     'bin_num',\n",
    "                                                     'mjd_binned',\n",
    "                                                     'med_dev_W1',\n",
    "                                                     'med_dev_W2',\n",
    "                                                     'dev_score_W1',\n",
    "                                                     'dev_score_W2'])\n",
    "\n",
    "count = 0\n",
    "\n",
    "for t in tags_unique_voids:\n",
    "    voids_full_tag = expand_cols(voids_full, t)\n",
    "#     voids_mean = save_binned(voids_full_tag, t)\n",
    "\n",
    "    voids_tuple = save_binned_outliers(voids_full_tag, t)\n",
    "    voids_mean = voids_tuple[0]\n",
    "    voids_outliers_removed = voids_tuple[1]\n",
    "    \n",
    "    ultimate_mean_voids = pd.concat([ultimate_mean_voids, voids_mean], ignore_index = True)\n",
    "    outliers_removed_voids = pd.concat([outliers_removed_voids, voids_outliers_removed], ignore_index = True)\n",
    "\n",
    "    count += 1\n",
    "    \n",
    "    # increment the counter to help us track the progress of this loop (takes a while to run)\n",
    "    # print the counter after every 5000 objects have been processed\n",
    "    if(count%5000 == 0):\n",
    "        print(str(count) + ' voids')\n",
    "        \n",
    "# 65000 voids"
   ]
  },
  {
   "cell_type": "code",
   "execution_count": null,
   "id": "b2da1396",
   "metadata": {},
   "outputs": [],
   "source": [
    "# voids_full[voids_full['object_tag'].isna()]"
   ]
  },
  {
   "cell_type": "code",
   "execution_count": null,
   "id": "79a87cdb",
   "metadata": {},
   "outputs": [],
   "source": [
    "print(len(ultimate_mean_voids))\n",
    "ultimate_mean_voids.head()\n",
    "\n",
    "ultimate_mean_voids.to_csv('Files/ultimate_mean_VOIDS_' + 'new_' + timestamp() + '.csv', index = False)\n",
    "outliers_removed_voids.to_csv('Files/bin_outliers_removed_VOIDS_' + timestamp() + '.csv', index = False)\n",
    "# voids_full.to_csv('Files/voids_full_' + 'new_' + timestamp() + '.csv', index = False)"
   ]
  },
  {
   "cell_type": "markdown",
   "id": "179318cb",
   "metadata": {},
   "source": [
    "## Compile for WALLS: Done as of _______"
   ]
  },
  {
   "cell_type": "code",
   "execution_count": null,
   "id": "c09eb06c",
   "metadata": {},
   "outputs": [],
   "source": [
    "walls_NEO_1 = read_data('IPAC_Results/AWS/Walls/ONE_AWS_walls_NEOWISE')\n",
    "walls_NEO_2 = read_data('IPAC_Results/AWS/Walls/TWO_AWS_walls_NEOWISE')\n",
    "walls_NEO_3 = read_data('IPAC_Results/AWS/Walls/THREE_AWS_walls_NEOWISE')\n",
    "walls_NEO_4 = read_data('IPAC_Results/AWS/Walls/FOUR_AWS_walls_NEOWISE')\n",
    "walls_NEO_5 = read_data('IPAC_Results/AWS/Walls/FIVE_AWS_walls_NEOWISE')\n",
    "walls_NEO_6 = read_data('IPAC_Results/AWS/Walls/SIX_AWS_walls_NEOWISE')\n",
    "walls_NEO_7 = read_data('IPAC_Results/AWS/Walls/SEVEN_AWS_walls_NEOWISE')\n",
    "\n",
    "walls_NEO_12 = read_data('IPAC_Results/AWS/Walls/ONE2_AWS_walls_NEOWISE')\n",
    "walls_NEO_22 = read_data('IPAC_Results/AWS/Walls/TWO2_AWS_walls_NEOWISE')\n",
    "walls_NEO_32 = read_data('IPAC_Results/AWS/Walls/THREE2_AWS_walls_NEOWISE')\n",
    "walls_NEO_42 = read_data('IPAC_Results/AWS/Walls/FOUR2_AWS_walls_NEOWISE')\n",
    "walls_NEO_52 = read_data('IPAC_Results/AWS/Walls/FIVE2_AWS_walls_NEOWISE')\n",
    "walls_NEO_62 = read_data('IPAC_Results/AWS/Walls/SIX2_AWS_walls_NEOWISE')\n",
    "walls_NEO_72 = read_data('IPAC_Results/AWS/Walls/SEVEN2_AWS_walls_NEOWISE')\n",
    "\n",
    "walls_NEO_full = pd.concat([walls_NEO_1, walls_NEO_12, \n",
    "                            walls_NEO_2, walls_NEO_22,  \n",
    "                            walls_NEO_3, walls_NEO_32,  \n",
    "                            walls_NEO_4, walls_NEO_42,  \n",
    "                            walls_NEO_5, walls_NEO_52, \n",
    "                            walls_NEO_6, walls_NEO_62, \n",
    "                            walls_NEO_7, walls_NEO_72],\n",
    "                           ignore_index = True, axis = 0)\n",
    "\n",
    "walls_ME_1 = read_data('IPAC_Results/AWS/Walls/ONE_AWS_walls_MEP')\n",
    "walls_ME_2 = read_data('IPAC_Results/AWS/Walls/TWO_AWS_walls_MEP')\n",
    "walls_ME_3 = read_data('IPAC_Results/AWS/Walls/THREE_AWS_walls_MEP')\n",
    "walls_ME_4 = read_data('IPAC_Results/AWS/Walls/FOUR_AWS_walls_MEP')\n",
    "walls_ME_5 = read_data('IPAC_Results/AWS/Walls/FIVE_AWS_walls_MEP')\n",
    "walls_ME_6 = read_data('IPAC_Results/AWS/Walls/SIX_AWS_walls_MEP')\n",
    "walls_ME_7 = read_data('IPAC_Results/AWS/Walls/SEVEN_AWS_walls_MEP')\n",
    "\n",
    "walls_ME_full = pd.concat([walls_ME_1, \n",
    "                            walls_ME_2, \n",
    "                            walls_ME_3, \n",
    "                            walls_ME_4, \n",
    "                            walls_ME_5,\n",
    "                            walls_ME_6,\n",
    "                            walls_ME_7],\n",
    "                           ignore_index = True, axis = 0)"
   ]
  },
  {
   "cell_type": "code",
   "execution_count": null,
   "id": "0b8f5689",
   "metadata": {
    "scrolled": false
   },
   "outputs": [],
   "source": [
    "walls_NEO_1.head()"
   ]
  },
  {
   "cell_type": "code",
   "execution_count": null,
   "id": "c782927a",
   "metadata": {
    "scrolled": true
   },
   "outputs": [],
   "source": [
    "walls_ME_full.head()"
   ]
  },
  {
   "cell_type": "code",
   "execution_count": null,
   "id": "3244c4a1",
   "metadata": {},
   "outputs": [],
   "source": [
    "print(round(walls_NEO_full[(walls_NEO_full['nsaid_01'] == 552295)]['mjd'].min(), 3))\n",
    "\n",
    "walls_NEO_full[(walls_NEO_full['nsaid_01'] == 552295)]"
   ]
  },
  {
   "cell_type": "code",
   "execution_count": null,
   "id": "5e6876cc",
   "metadata": {},
   "outputs": [],
   "source": [
    "print(round(walls_ME_full[(walls_ME_full['nsaid_01'] == 552295)]['mjd'].min(), 3))\n",
    "\n",
    "walls_ME_full[(walls_ME_full['nsaid_01'] == 552295)]"
   ]
  },
  {
   "cell_type": "code",
   "execution_count": null,
   "id": "01c28c56",
   "metadata": {},
   "outputs": [],
   "source": [
    "num_walls_NEO = np.unique(walls_NEO_full['nsaid_01'])\n",
    "print(len(num_walls_NEO))\n",
    "\n",
    "num_walls_ME = np.unique(walls_ME_full['nsaid_01'])\n",
    "print(len(num_walls_ME))\n",
    "\n",
    "num_walls_both = np.concatenate((num_walls_NEO, num_walls_ME), axis=None)\n",
    "print(len(num_walls_both))\n",
    "\n",
    "num_walls_unique = np.unique(num_walls_both)\n",
    "print(len(num_walls_unique))\n",
    "print('')\n",
    "print(len(num_walls_unique[~np.isnan(num_walls_unique)]))\n",
    "print(num_walls_unique.max())"
   ]
  },
  {
   "cell_type": "code",
   "execution_count": null,
   "id": "57f40512",
   "metadata": {},
   "outputs": [],
   "source": [
    "walls_full = combine_new_colors(walls_NEO_full, walls_ME_full, walls_filtered_cols)\n",
    "tags_unique_walls = np.unique(walls_full['object_tag'])"
   ]
  },
  {
   "cell_type": "code",
   "execution_count": null,
   "id": "d762cea5",
   "metadata": {},
   "outputs": [],
   "source": [
    "len(tags_unique_walls)"
   ]
  },
  {
   "cell_type": "code",
   "execution_count": null,
   "id": "2c78f11f",
   "metadata": {},
   "outputs": [],
   "source": [
    "new_walls = walls_full\n",
    "\n",
    "new_walls_list = read_data_db('new_walls_filtDL_04-10-23')\n",
    "\n",
    "new_walls_list = new_walls_list.rename(columns = {'NSAID' : 'nsaid_01'})\n",
    "\n",
    "new_walls_merged = new_walls.merge(new_walls_list, how = 'left', on = ['nsaid_01'])\n",
    "\n",
    "new_walls_filt = new_walls_merged.dropna(subset = ['RA'])\n",
    "\n",
    "walls_full = new_walls_filt\n",
    "\n",
    "print(len(np.unique(walls_full['object_tag'])))"
   ]
  },
  {
   "cell_type": "code",
   "execution_count": null,
   "id": "77655d11",
   "metadata": {},
   "outputs": [],
   "source": [
    "# redo tag list after filtering\n",
    "tags_unique_walls = np.unique(walls_full['object_tag'])\n",
    "print(len(tags_unique_walls))\n",
    "\n",
    "# problem = nan value!\n",
    "print(tags_unique_walls.min())\n",
    "print(tags_unique_walls.max())"
   ]
  },
  {
   "cell_type": "code",
   "execution_count": null,
   "id": "30fec63d",
   "metadata": {},
   "outputs": [],
   "source": [
    "tags_unique_walls = tags_unique_walls[np.logical_not(np.isnan(tags_unique_walls))]\n",
    "print(len(tags_unique_walls))"
   ]
  },
  {
   "cell_type": "code",
   "execution_count": null,
   "id": "2b88297c",
   "metadata": {},
   "outputs": [],
   "source": [
    "# repeat for walls\n",
    "ultimate_mean_walls = pd.DataFrame(columns = ['object_tag', 'mjd_binned',\n",
    "                                              'mean_W1', 'mean_W2', 'mean_color',\n",
    "                                              'std_W1', 'std_W2', 'std_color'])\n",
    "\n",
    "outliers_removed_walls = pd.DataFrame(columns = ['nsaid_01',\n",
    "                                                     'w1mpro',\n",
    "                                                     'w2mpro',\n",
    "                                                     'mjd',\n",
    "                                                     'object_tag',\n",
    "                                                     'origin',\n",
    "                                                     'w1mpro_AWS',\n",
    "                                                     'w2mpro_AWS',\n",
    "                                                     'W2_diff',\n",
    "                                                     'mjd_zero',\n",
    "                                                     'W1-W2',\n",
    "                                                     'bin_num',\n",
    "                                                     'mjd_binned',\n",
    "                                                     'med_dev_W1',\n",
    "                                                     'med_dev_W2',\n",
    "                                                     'dev_score_W1',\n",
    "                                                     'dev_score_W2'])\n",
    "\n",
    "count = 0\n",
    "\n",
    "for t in tags_unique_walls:\n",
    "    walls_full_tag = expand_cols(walls_full, t)\n",
    "#     walls_mean = save_binned(walls_full_tag, t)\n",
    "\n",
    "    walls_tuple = save_binned_outliers(walls_full_tag, t)\n",
    "    walls_mean = walls_tuple[0]\n",
    "    walls_outliers_removed = walls_tuple[1]\n",
    "    \n",
    "    ultimate_mean_walls = pd.concat([ultimate_mean_walls, walls_mean], ignore_index = True)\n",
    "    outliers_removed_walls = pd.concat([outliers_removed_walls, walls_outliers_removed], ignore_index = True)\n",
    "\n",
    "    count += 1\n",
    "    \n",
    "    # increment the counter to help us track the progress of this loop (takes a while to run)\n",
    "    # print the counter after every 5000 objects have been processed\n",
    "    if(count%5000 == 0):\n",
    "        print(str(count) + ' walls')\n",
    "        \n",
    "# 270,000 walls"
   ]
  },
  {
   "cell_type": "code",
   "execution_count": null,
   "id": "afe73759",
   "metadata": {},
   "outputs": [],
   "source": [
    "print(len(ultimate_mean_walls))\n",
    "ultimate_mean_walls.head()\n",
    "\n",
    "ultimate_mean_walls.to_csv('Files/ultimate_mean_walls_' + 'new_' + timestamp() + '.csv', index = False)\n",
    "outliers_removed_walls.to_csv('Files/bin_outliers_removed_walls_' + timestamp() + '.csv', index = False)\n",
    "# walls_full.to_csv('Files/walls_full_' + 'new_' + timestamp() + '.csv', index = False)"
   ]
  }
 ],
 "metadata": {
  "kernelspec": {
   "display_name": "Python 3 (ipykernel)",
   "language": "python",
   "name": "python3"
  },
  "language_info": {
   "codemirror_mode": {
    "name": "ipython",
    "version": 3
   },
   "file_extension": ".py",
   "mimetype": "text/x-python",
   "name": "python",
   "nbconvert_exporter": "python",
   "pygments_lexer": "ipython3",
   "version": "3.10.9"
  }
 },
 "nbformat": 4,
 "nbformat_minor": 5
}
